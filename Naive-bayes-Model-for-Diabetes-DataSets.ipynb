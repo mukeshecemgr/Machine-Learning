{
 "cells": [
  {
   "cell_type": "code",
   "execution_count": 1,
   "metadata": {},
   "outputs": [],
   "source": [
    "import math\n",
    "import random\n",
    "import csv\n",
    "import numpy as np"
   ]
  },
  {
   "cell_type": "markdown",
   "metadata": {},
   "source": [
    "Loading file from csv"
   ]
  },
  {
   "cell_type": "code",
   "execution_count": 2,
   "metadata": {},
   "outputs": [],
   "source": [
    "def LoadCsv(fileName):\n",
    "    lines=csv.reader(open(fileName,'r'))\n",
    "    dataSet=list(lines)\n",
    "    for i in range(len(dataSet)):\n",
    "        dataSet[i]=[float(x) for x in dataSet[i]]\n",
    "    return dataSet"
   ]
  },
  {
   "cell_type": "markdown",
   "metadata": {},
   "source": [
    "Split Train and Test dataSets "
   ]
  },
  {
   "cell_type": "code",
   "execution_count": 3,
   "metadata": {},
   "outputs": [],
   "source": [
    "def splitDataSets(dataSet,splitRatio):\n",
    "    trainSize=int(len(dataSet) * splitRatio)\n",
    "    trainSet=[]\n",
    "    copy=list(dataSet)\n",
    "    while len(trainSet) < trainSize:\n",
    "        index=random.randrange(len(copy))\n",
    "        trainSet.append(copy.pop(index))\n",
    "    return (trainSet,copy)\n",
    "    "
   ]
  },
  {
   "cell_type": "code",
   "execution_count": 4,
   "metadata": {},
   "outputs": [],
   "source": [
    "def separateByClass(dataSet):\n",
    "    separated={}\n",
    "    for i in range(len(dataSet)):\n",
    "        vector=dataSet[i]\n",
    "        if (vector[-1] not in separated):\n",
    "            separated[vector[-1]] = []\n",
    "        separated[vector[-1]].append(vector)\n",
    "    return separated"
   ]
  },
  {
   "cell_type": "code",
   "execution_count": 5,
   "metadata": {},
   "outputs": [],
   "source": [
    "def mean(numbers):\n",
    "    return sum(numbers)/float(len(numbers))"
   ]
  },
  {
   "cell_type": "code",
   "execution_count": 6,
   "metadata": {},
   "outputs": [],
   "source": [
    "def stdDev(numbers):\n",
    "    avg=mean(numbers)\n",
    "    variance=sum([pow(x-avg,2) for x in numbers])/float(len(numbers)-1)\n",
    "    return math.sqrt(variance)"
   ]
  },
  {
   "cell_type": "code",
   "execution_count": 7,
   "metadata": {},
   "outputs": [],
   "source": [
    "def summarize(dataSet):\n",
    "    summaries=[(mean(attribute),stdDev(attribute)) for attribute in zip(*dataSet)]\n",
    "    del summaries[-1]\n",
    "    return summaries\n",
    "    "
   ]
  },
  {
   "cell_type": "code",
   "execution_count": 8,
   "metadata": {},
   "outputs": [],
   "source": [
    "def summarizeByClass(dataSet):\n",
    "    separate=separateByClass(dataSet)\n",
    "    summaries={}\n",
    "    for classValue, instance in separate.items():\n",
    "        summaries[classValue]=summarize(instance)\n",
    "    return summaries"
   ]
  },
  {
   "cell_type": "code",
   "execution_count": 9,
   "metadata": {},
   "outputs": [],
   "source": [
    "def calculateProbability(x,mean,stdev):\n",
    "    exponent=math.exp(-(math.pow(x-mean,2)/(2*math.pow(stdev,2))))\n",
    "    return (1/(math.sqrt(2*math.pi)*stdev))*exponent"
   ]
  },
  {
   "cell_type": "code",
   "execution_count": 10,
   "metadata": {},
   "outputs": [],
   "source": [
    "def calculateClassProbability(summaries,inputVector):\n",
    "    prbabilities={}\n",
    "    for classValue, classSummary in summaries.items():\n",
    "        prbabilities[classValue]=1\n",
    "        for i in range(len(classSummary)):\n",
    "            mean, stdev = classSummary[i]\n",
    "            x=inputVector[i]\n",
    "            prbabilities[classValue] *= calculateProbability(x, mean, stdev)\n",
    "        return prbabilities\n",
    "        "
   ]
  },
  {
   "cell_type": "code",
   "execution_count": 11,
   "metadata": {},
   "outputs": [],
   "source": [
    "def predict(summaries, inputVector):\n",
    "    probabilities=calculateClassProbability(summaries,inputVector)\n",
    "    bestLabel, bestProb = None, -1\n",
    "    for classValue, probability in probabilities.items():\n",
    "        if bestLabel is None or probability > bestProb:\n",
    "            bestProb = probability\n",
    "            bestLabel = classValue\n",
    "    return bestLabel\n"
   ]
  },
  {
   "cell_type": "code",
   "execution_count": 12,
   "metadata": {},
   "outputs": [],
   "source": [
    "def getPrediction(summaries, testSet):\n",
    "    predictions=[]\n",
    "    for i in range(len(testSet)):\n",
    "        result=predict(summaries,testSet[i])\n",
    "        predictions.append(result)\n",
    "    return predictions"
   ]
  },
  {
   "cell_type": "code",
   "execution_count": 13,
   "metadata": {},
   "outputs": [],
   "source": [
    "def getAccuracy(testSet, predictions):\n",
    "    correct=0\n",
    "    for x in range(len(testSet)):\n",
    "        if testSet[x][-1] == predictions[x]:\n",
    "            correct += 1\n",
    "        \n",
    "    return (correct/float(len(testSet)))*100.0"
   ]
  },
  {
   "cell_type": "code",
   "execution_count": 18,
   "metadata": {},
   "outputs": [],
   "source": [
    "def main():\n",
    "    fileName='DataForAlgo/pima-india-diabetes/pima-indians-diabetes.csv'\n",
    "    splitRatio=0.67\n",
    "    dataSet=LoadCsv(fileName)\n",
    "    trainSet, testSet = splitDataSets(dataSet,splitRatio)\n",
    "    print(np.shape(trainSet))\n",
    "    print(np.shape(testSet))\n",
    "    print('Split {0} rows into TrainSet={1} testSet={2}'.format(len(dataSet),len(trainSet),len(testSet)))\n",
    "    #Prepare the Model\n",
    "    summaries=summarizeByClass(trainSet)\n",
    "    #Testing the model \n",
    "    predictions=getPrediction(summaries,testSet)\n",
    "    print(np.shape(predictions))\n",
    "    accuracy=getAccuracy(testSet,predictions)\n",
    "    print('Accuracy of this model is {0}%'.format(accuracy))"
   ]
  },
  {
   "cell_type": "code",
   "execution_count": 19,
   "metadata": {},
   "outputs": [
    {
     "name": "stdout",
     "output_type": "stream",
     "text": [
      "(514, 9)\n",
      "(254, 9)\n",
      "Split 768 rows into TrainSet=514 testSet=254\n",
      "(254,)\n",
      "Accuracy of this model is 62.59842519685039%\n"
     ]
    }
   ],
   "source": [
    "main()"
   ]
  },
  {
   "cell_type": "code",
   "execution_count": null,
   "metadata": {},
   "outputs": [],
   "source": []
  },
  {
   "cell_type": "code",
   "execution_count": null,
   "metadata": {},
   "outputs": [],
   "source": []
  }
 ],
 "metadata": {
  "kernelspec": {
   "display_name": "Python 3",
   "language": "python",
   "name": "python3"
  },
  "language_info": {
   "codemirror_mode": {
    "name": "ipython",
    "version": 3
   },
   "file_extension": ".py",
   "mimetype": "text/x-python",
   "name": "python",
   "nbconvert_exporter": "python",
   "pygments_lexer": "ipython3",
   "version": "3.7.0"
  }
 },
 "nbformat": 4,
 "nbformat_minor": 2
}
